{
 "cells": [
  {
   "cell_type": "markdown",
   "metadata": {},
   "source": [
    "##  Project 5 Vehicle Detection and Tracking\n"
   ]
  },
  {
   "cell_type": "code",
   "execution_count": null,
   "metadata": {
    "scrolled": true
   },
   "outputs": [],
   "source": [
    "import numpy as np\n",
    "import cv2, glob\n",
    "import matplotlib.pyplot as plt\n",
    "import matplotlib.image as mpimg\n",
    "import pickle\n",
    "from tool_functions import *\n",
    "#%matplotlib qt\n",
    "%matplotlib inline\n"
   ]
  },
  {
   "cell_type": "code",
   "execution_count": null,
   "metadata": {
    "collapsed": true
   },
   "outputs": [],
   "source": [
    "# import params\n",
    "# ### TODO: Tweak these parameters and see how the results change.\n",
    "# #color_space = 'RGB' # Can be RGB, HSV, LUV, HLS, YUV, YCrCb\n",
    "# #color_space = 'HSV'\n",
    "# color_space = 'HLS'\n",
    "\n",
    "# orient = 9  # HOG orientations\n",
    "\n",
    "# #pix_per_cell = 8 # HOG pixels per cell\n",
    "# # making it 4 to have more rect in find_cars \n",
    "# pix_per_cell = 4 # HOG pixels per cell\n",
    "\n",
    "# cell_per_block = 2 # HOG cells per block\n",
    "\n",
    "# hog_channel = 'ALL' # Can be 0, 1, 2, or \"ALL\"\n",
    "# #spatial_size = (16, 16) # Spatial binning dimensions\n",
    "# spatial_size = (16, 16) # Spatial binning dimensions\n",
    "\n",
    "# #hist_bins = 16    # Number of histogram bins\n",
    "# hist_bins = 16    # Number of histogram bins\n",
    "\n",
    "# spatial_feat = True # Spatial features on or off\n",
    "# hist_feat = True # Histogram features on or off\n",
    "# hog_feat = True # HOG features on or off\n",
    "# y_start_stop = [None, None] # Min and max in y to search in slide_window()\n",
    "\n",
    "# # global variables:\n",
    "# X_scaler = None\n"
   ]
  },
  {
   "cell_type": "code",
   "execution_count": null,
   "metadata": {
    "collapsed": true
   },
   "outputs": [],
   "source": [
    "import params\n",
    "### TODO: Tweak these parameters and see how the results change.\n",
    "#color_space = 'RGB' # Can be RGB, HSV, LUV, HLS, YUV, YCrCb\n",
    "#color_space = 'HSV'\n",
    "color_space = params.color_space\n",
    "# HOG orientations\n",
    "orient = params.orient\n",
    "pix_per_cell = params.pix_per_cell     # HOG pixels per cell\n",
    "cell_per_block = params.cell_per_block # HOG cells per block\n",
    "hog_channel = params.hog_channel # Can be 0, 1, 2, or \"ALL\"\n",
    "spatial_size = params.spatial_size # Spatial binning dimensions\n",
    "hist_bins = params.hist_bins    # Number of histogram bins\n",
    "\n",
    "spatial_feat = params.spatial_feat # Spatial features on or off\n",
    "hist_feat = params.hist_feat # Histogram features on or off\n",
    "hog_feat = params.hog_feat # HOG features on or off\n",
    "y_start_stop = params.y_start_stop # Min and max in y to search in slide_window()\n",
    "\n",
    "# test on findcars.\n",
    "# ystart = 400\n",
    "ystart = 350\n",
    "ystop = 656\n",
    "scale = 1.5\n",
    "\n",
    "# global variables:\n",
    "X_scaler = None\n"
   ]
  },
  {
   "cell_type": "code",
   "execution_count": null,
   "metadata": {},
   "outputs": [],
   "source": [
    "from pathlib import Path\n",
    "\n",
    "clf_file = Path(\"save/clf.pickle\")\n",
    "scaler_file = Path(\"save/x_scaler.pickle\")\n",
    "if clf_file.is_file() & scaler_file.is_file():\n",
    "    print(clf_file,  \"exist! Don't train classifier, just load it.\")\n",
    "    with open('save/clf.pickle', 'rb') as f:\n",
    "        clf2 = pickle.load(f)\n",
    "        print(clf2)    \n",
    "    with open('save/x_scaler.pickle', 'rb') as f:\n",
    "        global X_scaler\n",
    "        X_scaler = pickle.load(f)\n",
    "else:\n",
    "    print(\" One or more model files not exist, start training classifier...\")\n",
    "    clf2 = train_classifier()\n",
    "\n",
    "print('cell passed.')"
   ]
  },
  {
   "cell_type": "code",
   "execution_count": null,
   "metadata": {},
   "outputs": [],
   "source": [
    "import numpy as np\n",
    "import cv2, glob\n",
    "import matplotlib.pyplot as plt\n",
    "import matplotlib.image as mpimg\n",
    "import pickle\n",
    "from tool_functions import *\n",
    "\n",
    "#%matplotlib qt\n",
    "%matplotlib inline\n",
    "start_time = time.time()\n",
    "\n",
    "image = mpimg.imread('test_images/test6.jpg')\n",
    "draw_image = np.copy(image)\n",
    "\n",
    "# Uncomment the following line if you extracted training\n",
    "# data from .png images (scaled 0 to 1 by mpimg) and the\n",
    "# image you are searching is a .jpg (scaled 0 to 255)\n",
    "image = image.astype(np.float32)/255\n",
    "\n",
    "windows = slide_window(image, x_start_stop=[None, None], y_start_stop=y_start_stop, \n",
    "                    xy_window=(96, 96), xy_overlap=(0.5, 0.5))\n",
    "# windows = slide_window(image, x_start_stop=[None, None], y_start_stop=y_start_stop, \n",
    "#                     xy_window=(48, 48), xy_overlap=(0.5, 0.5))\n",
    "windows = slide_window(image, x_start_stop=[None, None], y_start_stop=y_start_stop, \n",
    "                    xy_window=(64, 64), xy_overlap=(0.5, 0.5))\n",
    "\n",
    "elapsed_time = time.time() - start_time\n",
    "print('elapsed_time : ', elapsed_time )\n",
    "\n",
    "hot_windows = search_windows(image, windows, clf2, X_scaler, color_space=color_space, \n",
    "                        spatial_size=spatial_size, hist_bins=hist_bins, \n",
    "                        orient=orient, pix_per_cell=pix_per_cell, \n",
    "                        cell_per_block=cell_per_block, \n",
    "                        hog_channel=hog_channel\n",
    "                        ,spatial_feat=spatial_feat, hist_feat=hist_feat, hog_feat=hog_feat\n",
    "                            )\n",
    "\n",
    "window_img = draw_boxes(image, windows, color=(0, 0, 255), thick=6)                    \n",
    "plt.imshow(window_img)\n",
    "plt.show()\n",
    "\n",
    "window_img = draw_boxes(draw_image, hot_windows, color=(0, 0, 255), thick=6)                    \n",
    "plt.imshow(window_img)\n",
    "plt.show()\n",
    "\n",
    "elapsed_time = time.time() - start_time\n",
    "print('elapsed_time : ', elapsed_time )\n",
    "\n",
    "\n",
    "print('cell passed.')"
   ]
  },
  {
   "cell_type": "code",
   "execution_count": null,
   "metadata": {},
   "outputs": [],
   "source": [
    "sample_window_cnt = 64\n",
    "#sample_window_cnt = 128\n",
    "\n",
    "filenames = glob.glob('test_images/*.jpg')\n",
    "print('images : ', filenames)\n",
    "for filename in filenames:\n",
    "    img = mpimg.imread(filename)\n",
    "    out_img, rect = find_cars(img, ystart, ystop, scale, clf2, X_scaler, orient, \n",
    "                              pix_per_cell, cell_per_block, spatial_size, hist_bins, sample_window_cnt)\n",
    "\n",
    "    plt.imshow(out_img)\n",
    "    plt.show()\n",
    "print('cell passed.')"
   ]
  },
  {
   "cell_type": "code",
   "execution_count": null,
   "metadata": {
    "scrolled": true
   },
   "outputs": [],
   "source": [
    "\n",
    "heatmaps.clear()\n",
    "# testing on def makeheatmap.\n",
    "filenames = glob.glob('test_images/*.jpg')\n",
    "print('images : ', filenames)\n",
    "for filename in filenames:\n",
    "    img = mpimg.imread(filename)\n",
    "    out_img, rect = find_cars(img, ystart, ystop, scale, clf2, X_scaler, orient, \n",
    "                              pix_per_cell, cell_per_block, spatial_size, hist_bins, sample_window_cnt)\n",
    "\n",
    "# #    heatmap_threshold = 2.2\n",
    "#     heatmap_threshold = 15\n",
    "    heat_img = makeheatmap(img, rect, heatmap_threshold, True)\n",
    "#     plt.imshow(heat_img)\n",
    "#     plt.show()\n",
    "\n",
    "print('cell passed.')\n",
    "    "
   ]
  },
  {
   "cell_type": "code",
   "execution_count": null,
   "metadata": {
    "collapsed": true
   },
   "outputs": [],
   "source": []
  },
  {
   "cell_type": "code",
   "execution_count": null,
   "metadata": {
    "collapsed": true
   },
   "outputs": [],
   "source": [
    "# turn on debug to produce some image, for debugging or the writeups.\n",
    "debug = False\n",
    "#     debug = True\n",
    "\n",
    "def process_one_image(img, debug = False):\n",
    "    out_img, rect = find_cars(img, ystart, ystop, scale, clf2, X_scaler, orient, \n",
    "        pix_per_cell, cell_per_block, spatial_size, hist_bins, sample_window_cnt)\n",
    "    heat_img = makeheatmap(img, rect, heatmap_threshold, debug)\n",
    "    return heat_img\n",
    "\n",
    "def process_image(image):\n",
    "    # NOTE: The output you return should be a color image (3 channel) for processing video below\n",
    "    # TODO: put your pipeline here,\n",
    "    # you should return the final output (image where lines are drawn on lanes)\n",
    "    \n",
    "    return process_one_image(image, debug)\n"
   ]
  },
  {
   "cell_type": "code",
   "execution_count": null,
   "metadata": {},
   "outputs": [],
   "source": [
    "# make sure the output folder exist.\n",
    "import os\n",
    "# Import everything needed to edit/save/watch video clips\n",
    "from moviepy.editor import VideoFileClip\n",
    "from IPython.display import HTML\n",
    "\n",
    "outputdir = 'test_videos_output'\n",
    "if not os.path.exists(outputdir):\n",
    "    os.makedirs(outputdir)\n",
    "    \n",
    "white_output = outputdir + '/project-output-1.mp4'\n",
    "## You may also uncomment the following line for a subclip of the first 5 seconds\n",
    "##clip1 = VideoFileClip(\"test_videos/solidWhiteRight.mp4\").subclip(0,5)\n",
    "heatmaps.clear()\n",
    "# turn on debug to produce some image, for debugging or the writeups.\n",
    "debug = False\n",
    "debug = True\n",
    "#clip1 = VideoFileClip(\"project_video.mp4\").subclip(33, 37)\n",
    "clip1 = VideoFileClip(\"project_video.mp4\").subclip(35, 37)\n",
    "\n",
    "white_clip = clip1.fl_image(process_image) #NOTE: this function expects color images!!\n",
    "%time white_clip.write_videofile(white_output, audio=False)\n",
    "\n"
   ]
  },
  {
   "cell_type": "code",
   "execution_count": null,
   "metadata": {
    "collapsed": true
   },
   "outputs": [],
   "source": [
    "# make sure the output folder exist.\n",
    "import os\n",
    "# Import everything needed to edit/save/watch video clips\n",
    "from moviepy.editor import VideoFileClip\n",
    "from IPython.display import HTML\n",
    "\n",
    "outputdir = 'test_videos_output'\n",
    "if not os.path.exists(outputdir):\n",
    "    os.makedirs(outputdir)\n",
    "\n",
    "white_output = outputdir + '/project-output-2.mp4'\n",
    "## You may also uncomment the following line for a subclip of the first 5 seconds\n",
    "##clip1 = VideoFileClip(\"test_videos/solidWhiteRight.mp4\").subclip(0,5)\n",
    "#clip1 = VideoFileClip(\"project_video.mp4\").subclip(39, 43)\n",
    "\n",
    "# turn on debug to produce some image, for debugging or the writeups.\n",
    "debug = False\n",
    "debug = True\n",
    "heatmaps.clear()\n",
    "clip1 = VideoFileClip(\"project_video.mp4\").subclip(41, 45)\n",
    "\n",
    "white_clip = clip1.fl_image(process_image) #NOTE: this function expects color images!!\n",
    "%time white_clip.write_videofile(white_output, audio=False)"
   ]
  },
  {
   "cell_type": "code",
   "execution_count": null,
   "metadata": {},
   "outputs": [],
   "source": [
    "# Import everything needed to edit/save/watch video clips\n",
    "from moviepy.editor import VideoFileClip\n",
    "from IPython.display import HTML\n",
    "\n",
    "# make sure the output folder exist.\n",
    "import os\n",
    "outputdir = 'test_videos_output'\n",
    "if not os.path.exists(outputdir):\n",
    "    os.makedirs(outputdir)\n",
    "    \n",
    "white_output = outputdir + '/project-output-full.mp4'\n",
    "\n",
    "heatmaps.clear()\n",
    "## You may also uncomment the following line for a subclip of the first 5 seconds\n",
    "##clip1 = VideoFileClip(\"test_videos/solidWhiteRight.mp4\").subclip(0,5)\n",
    "clip1 = VideoFileClip(\"project_video.mp4\")#.subclip(33, 37)\n",
    "\n",
    "#clip1 = VideoFileClip(\"challenge_video.mp4\")\n",
    "white_clip = clip1.fl_image(process_image) #NOTE: this function expects color images!!\n",
    "%time white_clip.write_videofile(white_output, audio=False)\n",
    "\n"
   ]
  },
  {
   "cell_type": "code",
   "execution_count": null,
   "metadata": {
    "collapsed": true
   },
   "outputs": [],
   "source": []
  }
 ],
 "metadata": {
  "anaconda-cloud": {},
  "kernelspec": {
   "display_name": "Python 3",
   "language": "python",
   "name": "python3"
  },
  "language_info": {
   "codemirror_mode": {
    "name": "ipython",
    "version": 3
   },
   "file_extension": ".py",
   "mimetype": "text/x-python",
   "name": "python",
   "nbconvert_exporter": "python",
   "pygments_lexer": "ipython3",
   "version": "3.5.3"
  }
 },
 "nbformat": 4,
 "nbformat_minor": 1
}
